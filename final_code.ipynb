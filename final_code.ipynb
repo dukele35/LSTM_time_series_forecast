{
 "cells": [
  {
   "cell_type": "code",
   "execution_count": 1,
   "metadata": {},
   "outputs": [],
   "source": [
    "import pandas as pd\n",
    "import numpy as np\n",
    "import datetime\n",
    "import matplotlib.pyplot as plt\n",
    "from sklearn.preprocessing import MinMaxScaler"
   ]
  },
  {
   "cell_type": "code",
   "execution_count": 2,
   "metadata": {
    "scrolled": false
   },
   "outputs": [
    {
     "data": {
      "text/html": [
       "<div>\n",
       "<style scoped>\n",
       "    .dataframe tbody tr th:only-of-type {\n",
       "        vertical-align: middle;\n",
       "    }\n",
       "\n",
       "    .dataframe tbody tr th {\n",
       "        vertical-align: top;\n",
       "    }\n",
       "\n",
       "    .dataframe thead th {\n",
       "        text-align: right;\n",
       "    }\n",
       "</style>\n",
       "<table border=\"1\" class=\"dataframe\">\n",
       "  <thead>\n",
       "    <tr style=\"text-align: right;\">\n",
       "      <th></th>\n",
       "      <th>Date</th>\n",
       "      <th>Open</th>\n",
       "      <th>High</th>\n",
       "      <th>Low</th>\n",
       "      <th>Close</th>\n",
       "      <th>Adj Close</th>\n",
       "      <th>Volume</th>\n",
       "    </tr>\n",
       "  </thead>\n",
       "  <tbody>\n",
       "    <tr>\n",
       "      <th>0</th>\n",
       "      <td>2004-08-19</td>\n",
       "      <td>49.813286</td>\n",
       "      <td>51.835709</td>\n",
       "      <td>47.800831</td>\n",
       "      <td>49.982655</td>\n",
       "      <td>49.982655</td>\n",
       "      <td>44871300</td>\n",
       "    </tr>\n",
       "    <tr>\n",
       "      <th>1</th>\n",
       "      <td>2004-08-20</td>\n",
       "      <td>50.316402</td>\n",
       "      <td>54.336334</td>\n",
       "      <td>50.062355</td>\n",
       "      <td>53.952770</td>\n",
       "      <td>53.952770</td>\n",
       "      <td>22942800</td>\n",
       "    </tr>\n",
       "    <tr>\n",
       "      <th>2</th>\n",
       "      <td>2004-08-23</td>\n",
       "      <td>55.168217</td>\n",
       "      <td>56.528118</td>\n",
       "      <td>54.321388</td>\n",
       "      <td>54.495735</td>\n",
       "      <td>54.495735</td>\n",
       "      <td>18342800</td>\n",
       "    </tr>\n",
       "    <tr>\n",
       "      <th>3</th>\n",
       "      <td>2004-08-24</td>\n",
       "      <td>55.412300</td>\n",
       "      <td>55.591629</td>\n",
       "      <td>51.591621</td>\n",
       "      <td>52.239193</td>\n",
       "      <td>52.239193</td>\n",
       "      <td>15319700</td>\n",
       "    </tr>\n",
       "    <tr>\n",
       "      <th>4</th>\n",
       "      <td>2004-08-25</td>\n",
       "      <td>52.284027</td>\n",
       "      <td>53.798351</td>\n",
       "      <td>51.746044</td>\n",
       "      <td>52.802086</td>\n",
       "      <td>52.802086</td>\n",
       "      <td>9232100</td>\n",
       "    </tr>\n",
       "  </tbody>\n",
       "</table>\n",
       "</div>"
      ],
      "text/plain": [
       "         Date       Open       High        Low      Close  Adj Close    Volume\n",
       "0  2004-08-19  49.813286  51.835709  47.800831  49.982655  49.982655  44871300\n",
       "1  2004-08-20  50.316402  54.336334  50.062355  53.952770  53.952770  22942800\n",
       "2  2004-08-23  55.168217  56.528118  54.321388  54.495735  54.495735  18342800\n",
       "3  2004-08-24  55.412300  55.591629  51.591621  52.239193  52.239193  15319700\n",
       "4  2004-08-25  52.284027  53.798351  51.746044  52.802086  52.802086   9232100"
      ]
     },
     "execution_count": 2,
     "metadata": {},
     "output_type": "execute_result"
    }
   ],
   "source": [
    "# loading the dataset\n",
    "df = pd.read_csv('GOOG.csv', date_parser = True)\n",
    "df.head()"
   ]
  },
  {
   "cell_type": "code",
   "execution_count": 3,
   "metadata": {},
   "outputs": [],
   "source": [
    "# define rolling window\n",
    "rolling = 60"
   ]
  },
  {
   "cell_type": "code",
   "execution_count": 4,
   "metadata": {},
   "outputs": [],
   "source": [
    "# select training data before 2019\n",
    "train = df[df['Date'] < '2019-01-01'].copy()\n",
    "\n",
    "# select test data after 2019\n",
    "test = df[df['Date'] >= '2019-01-01'].copy()\n",
    "\n",
    "# adding the last rolling + 1 values of the train data for the test data \n",
    "test = train.tail(rolling + 1).append(test, ignore_index = True )"
   ]
  },
  {
   "cell_type": "code",
   "execution_count": 5,
   "metadata": {},
   "outputs": [],
   "source": [
    "# dropping column Date on training data\n",
    "train = train.drop(['Date'], axis = 1)\n",
    "\n",
    "# dropping column Date on test data\n",
    "test = test.drop(['Date'], axis = 1)"
   ]
  },
  {
   "cell_type": "code",
   "execution_count": 6,
   "metadata": {},
   "outputs": [
    {
     "name": "stdout",
     "output_type": "stream",
     "text": [
      "In train data\n",
      "there are 3617 rows and 6 columns\n",
      "\n",
      "In test data\n",
      "there are 407 rows and 6 columns\n"
     ]
    }
   ],
   "source": [
    "print('In train data')\n",
    "print('there are ' + str(train.shape[0]) + ' rows and ' + str(train.shape[1]) + ' columns')\n",
    "\n",
    "print('\\nIn test data')\n",
    "print('there are ' + str(test.shape[0]) + ' rows and ' + str(test.shape[1]) + ' columns')"
   ]
  },
  {
   "cell_type": "code",
   "execution_count": 7,
   "metadata": {},
   "outputs": [],
   "source": [
    "# scaling data\n",
    "scaler = MinMaxScaler()\n",
    "train = scaler.fit_transform(train)\n",
    "test = scaler.transform(test)"
   ]
  },
  {
   "cell_type": "code",
   "execution_count": 8,
   "metadata": {},
   "outputs": [],
   "source": [
    "X_train = []\n",
    "y_train = []\n",
    "\n",
    "for i in range(rolling, train.shape[0]):      # train.shape[0] --> number of rows in train data\n",
    "    X_train.append(train[i-rolling:i])       \n",
    "    y_train.append(train[i,4])               # 0: open, 1: high, 2: low, 3: close, 4: adj close, 5: volume\n",
    "\n",
    "X_train, y_train = np.array(X_train), np.array(y_train)"
   ]
  },
  {
   "cell_type": "code",
   "execution_count": 9,
   "metadata": {},
   "outputs": [
    {
     "data": {
      "text/plain": [
       "6"
      ]
     },
     "execution_count": 9,
     "metadata": {},
     "output_type": "execute_result"
    }
   ],
   "source": [
    "X_train.shape[2]"
   ]
  },
  {
   "cell_type": "code",
   "execution_count": 10,
   "metadata": {
    "scrolled": true
   },
   "outputs": [],
   "source": [
    "X_test = []\n",
    "y_test = []\n",
    "\n",
    "for i in range(rolling, test.shape[0]):      # train.shape[0] --> number of rows in train data\n",
    "    X_test.append(test[i-rolling:i])       \n",
    "    y_test.append(test[i,4])               # 0: open, 1: high, 2: low, 3: close, 4: adj close, 5: volume\n",
    "\n",
    "X_test, y_test = np.array(X_test), np.array(y_test)"
   ]
  },
  {
   "cell_type": "markdown",
   "metadata": {},
   "source": [
    "# LSTM"
   ]
  },
  {
   "cell_type": "code",
   "execution_count": 66,
   "metadata": {},
   "outputs": [],
   "source": [
    "import keras\n",
    "from tensorflow.keras import Sequential\n",
    "from tensorflow.keras.layers import Dense, LSTM, Dropout"
   ]
  },
  {
   "cell_type": "code",
   "execution_count": 12,
   "metadata": {},
   "outputs": [
    {
     "name": "stdout",
     "output_type": "stream",
     "text": [
      "WARNING:tensorflow:From //anaconda3/lib/python3.7/site-packages/tensorflow/python/ops/init_ops.py:1251: calling VarianceScaling.__init__ (from tensorflow.python.ops.init_ops) with dtype is deprecated and will be removed in a future version.\n",
      "Instructions for updating:\n",
      "Call initializer instance with the dtype argument instead of passing it to the constructor\n"
     ]
    }
   ],
   "source": [
    "model = Sequential()\n",
    "\n",
    "model.add(LSTM(units = 60, return_sequences = True, input_shape = (X_train.shape[1], X_train.shape[2])))\n",
    "model.add(Dropout(0.3))\n",
    "\n",
    "model.add(LSTM(units = 80, return_sequences = False))\n",
    "model.add(Dropout(0.3))\n",
    "\n",
    "model.add(Dense(units = 1))\n",
    "\n",
    "\n",
    "model.compile(optimizer='nadam', loss = 'mae', metrics=['mean_squared_error'])"
   ]
  },
  {
   "cell_type": "code",
   "execution_count": 13,
   "metadata": {},
   "outputs": [
    {
     "name": "stdout",
     "output_type": "stream",
     "text": [
      "Model: \"sequential\"\n",
      "_________________________________________________________________\n",
      "Layer (type)                 Output Shape              Param #   \n",
      "=================================================================\n",
      "lstm (LSTM)                  (None, 60, 60)            16080     \n",
      "_________________________________________________________________\n",
      "dropout (Dropout)            (None, 60, 60)            0         \n",
      "_________________________________________________________________\n",
      "lstm_1 (LSTM)                (None, 80)                45120     \n",
      "_________________________________________________________________\n",
      "dropout_1 (Dropout)          (None, 80)                0         \n",
      "_________________________________________________________________\n",
      "dense (Dense)                (None, 1)                 81        \n",
      "=================================================================\n",
      "Total params: 61,281\n",
      "Trainable params: 61,281\n",
      "Non-trainable params: 0\n",
      "_________________________________________________________________\n"
     ]
    }
   ],
   "source": [
    "model.summary()"
   ]
  },
  {
   "cell_type": "code",
   "execution_count": 14,
   "metadata": {},
   "outputs": [
    {
     "name": "stdout",
     "output_type": "stream",
     "text": [
      "Train on 2845 samples, validate on 712 samples\n",
      "WARNING:tensorflow:From //anaconda3/lib/python3.7/site-packages/tensorflow/python/ops/math_grad.py:1250: add_dispatch_support.<locals>.wrapper (from tensorflow.python.ops.array_ops) is deprecated and will be removed in a future version.\n",
      "Instructions for updating:\n",
      "Use tf.where in 2.0, which has the same broadcast rule as np.where\n",
      "Epoch 1/50\n",
      "2845/2845 [==============================] - 13s 5ms/sample - loss: 0.0475 - mean_squared_error: 0.0067 - val_loss: 0.1500 - val_mean_squared_error: 0.0236\n",
      "Epoch 2/50\n",
      "2845/2845 [==============================] - 10s 4ms/sample - loss: 0.0282 - mean_squared_error: 0.0015 - val_loss: 0.0309 - val_mean_squared_error: 0.0013\n",
      "Epoch 3/50\n",
      "2845/2845 [==============================] - 10s 4ms/sample - loss: 0.0234 - mean_squared_error: 0.0011 - val_loss: 0.0329 - val_mean_squared_error: 0.0014\n",
      "Epoch 4/50\n",
      "2845/2845 [==============================] - 9s 3ms/sample - loss: 0.0224 - mean_squared_error: 0.0010 - val_loss: 0.0176 - val_mean_squared_error: 5.3699e-04\n",
      "Epoch 5/50\n",
      "2845/2845 [==============================] - 9s 3ms/sample - loss: 0.0214 - mean_squared_error: 9.1066e-04 - val_loss: 0.0321 - val_mean_squared_error: 0.0014\n",
      "Epoch 6/50\n",
      "2845/2845 [==============================] - 9s 3ms/sample - loss: 0.0211 - mean_squared_error: 8.7445e-04 - val_loss: 0.0286 - val_mean_squared_error: 0.0012\n",
      "Epoch 7/50\n",
      "2845/2845 [==============================] - 9s 3ms/sample - loss: 0.0194 - mean_squared_error: 7.6018e-04 - val_loss: 0.0228 - val_mean_squared_error: 8.2723e-04\n",
      "Epoch 8/50\n",
      "2845/2845 [==============================] - 10s 3ms/sample - loss: 0.0203 - mean_squared_error: 8.1068e-04 - val_loss: 0.1102 - val_mean_squared_error: 0.0131\n",
      "Epoch 9/50\n",
      "2845/2845 [==============================] - 12s 4ms/sample - loss: 0.0198 - mean_squared_error: 7.7892e-04 - val_loss: 0.0314 - val_mean_squared_error: 0.0014\n",
      "Epoch 10/50\n",
      "2845/2845 [==============================] - 12s 4ms/sample - loss: 0.0181 - mean_squared_error: 6.7878e-04 - val_loss: 0.0211 - val_mean_squared_error: 7.3138e-04\n",
      "Epoch 11/50\n",
      "2845/2845 [==============================] - 12s 4ms/sample - loss: 0.0186 - mean_squared_error: 7.2452e-04 - val_loss: 0.0669 - val_mean_squared_error: 0.0050\n",
      "Epoch 12/50\n",
      "2845/2845 [==============================] - 11s 4ms/sample - loss: 0.0166 - mean_squared_error: 5.6659e-04 - val_loss: 0.0193 - val_mean_squared_error: 6.3187e-04\n",
      "Epoch 13/50\n",
      "2845/2845 [==============================] - 11s 4ms/sample - loss: 0.0177 - mean_squared_error: 6.5159e-04 - val_loss: 0.0567 - val_mean_squared_error: 0.0038\n",
      "Epoch 14/50\n",
      "2845/2845 [==============================] - 12s 4ms/sample - loss: 0.0170 - mean_squared_error: 6.1954e-04 - val_loss: 0.0174 - val_mean_squared_error: 5.0117e-04\n",
      "Epoch 15/50\n",
      "2845/2845 [==============================] - 11s 4ms/sample - loss: 0.0166 - mean_squared_error: 5.8407e-04 - val_loss: 0.0223 - val_mean_squared_error: 7.9049e-04\n",
      "Epoch 16/50\n",
      "2845/2845 [==============================] - 11s 4ms/sample - loss: 0.0167 - mean_squared_error: 5.8013e-04 - val_loss: 0.0159 - val_mean_squared_error: 4.4637e-04\n",
      "Epoch 17/50\n",
      "2845/2845 [==============================] - 11s 4ms/sample - loss: 0.0167 - mean_squared_error: 5.9674e-04 - val_loss: 0.0198 - val_mean_squared_error: 6.9249e-04\n",
      "Epoch 18/50\n",
      "2845/2845 [==============================] - 11s 4ms/sample - loss: 0.0154 - mean_squared_error: 5.0839e-04 - val_loss: 0.0495 - val_mean_squared_error: 0.0030\n",
      "Epoch 19/50\n",
      "2845/2845 [==============================] - 11s 4ms/sample - loss: 0.0156 - mean_squared_error: 5.2184e-04 - val_loss: 0.0160 - val_mean_squared_error: 4.5686e-04\n",
      "Epoch 20/50\n",
      "2845/2845 [==============================] - 11s 4ms/sample - loss: 0.0153 - mean_squared_error: 5.0577e-04 - val_loss: 0.0353 - val_mean_squared_error: 0.0017\n",
      "Epoch 21/50\n",
      "2845/2845 [==============================] - 11s 4ms/sample - loss: 0.0144 - mean_squared_error: 4.4866e-04 - val_loss: 0.0156 - val_mean_squared_error: 4.3889e-04\n",
      "Epoch 22/50\n",
      "2845/2845 [==============================] - 11s 4ms/sample - loss: 0.0142 - mean_squared_error: 4.3273e-04 - val_loss: 0.0206 - val_mean_squared_error: 7.1808e-04\n",
      "Epoch 23/50\n",
      "2845/2845 [==============================] - 11s 4ms/sample - loss: 0.0142 - mean_squared_error: 4.4455e-04 - val_loss: 0.0556 - val_mean_squared_error: 0.0037\n",
      "Epoch 24/50\n",
      "2845/2845 [==============================] - 11s 4ms/sample - loss: 0.0143 - mean_squared_error: 4.2893e-04 - val_loss: 0.0171 - val_mean_squared_error: 5.1590e-04\n",
      "Epoch 25/50\n",
      "2845/2845 [==============================] - 11s 4ms/sample - loss: 0.0136 - mean_squared_error: 3.9954e-04 - val_loss: 0.0205 - val_mean_squared_error: 6.5919e-04\n",
      "Epoch 26/50\n",
      "2845/2845 [==============================] - 12s 4ms/sample - loss: 0.0144 - mean_squared_error: 4.3632e-04 - val_loss: 0.0521 - val_mean_squared_error: 0.0032\n",
      "Epoch 27/50\n",
      "2845/2845 [==============================] - 11s 4ms/sample - loss: 0.0131 - mean_squared_error: 3.7956e-04 - val_loss: 0.0565 - val_mean_squared_error: 0.0037\n",
      "Epoch 28/50\n",
      "2845/2845 [==============================] - 11s 4ms/sample - loss: 0.0138 - mean_squared_error: 4.2850e-04 - val_loss: 0.0331 - val_mean_squared_error: 0.0014\n",
      "Epoch 29/50\n",
      "2845/2845 [==============================] - 11s 4ms/sample - loss: 0.0134 - mean_squared_error: 3.9739e-04 - val_loss: 0.0143 - val_mean_squared_error: 3.6879e-04\n",
      "Epoch 30/50\n",
      "2845/2845 [==============================] - 11s 4ms/sample - loss: 0.0127 - mean_squared_error: 3.5359e-04 - val_loss: 0.0462 - val_mean_squared_error: 0.0025\n",
      "Epoch 31/50\n",
      "2845/2845 [==============================] - 12s 4ms/sample - loss: 0.0140 - mean_squared_error: 4.1326e-04 - val_loss: 0.0192 - val_mean_squared_error: 6.2810e-04\n",
      "Epoch 32/50\n",
      "2845/2845 [==============================] - 11s 4ms/sample - loss: 0.0130 - mean_squared_error: 3.7361e-04 - val_loss: 0.0241 - val_mean_squared_error: 8.8779e-04\n",
      "Epoch 33/50\n",
      "2845/2845 [==============================] - 11s 4ms/sample - loss: 0.0130 - mean_squared_error: 3.6344e-04 - val_loss: 0.0293 - val_mean_squared_error: 0.0012\n",
      "Epoch 34/50\n",
      "2845/2845 [==============================] - 11s 4ms/sample - loss: 0.0129 - mean_squared_error: 3.6137e-04 - val_loss: 0.0155 - val_mean_squared_error: 4.2333e-04\n",
      "Epoch 35/50\n",
      "2845/2845 [==============================] - 13s 5ms/sample - loss: 0.0125 - mean_squared_error: 3.5303e-04 - val_loss: 0.0580 - val_mean_squared_error: 0.0039\n",
      "Epoch 36/50\n",
      "2845/2845 [==============================] - 14s 5ms/sample - loss: 0.0131 - mean_squared_error: 3.8477e-04 - val_loss: 0.0165 - val_mean_squared_error: 4.7733e-04\n",
      "Epoch 37/50\n",
      "2845/2845 [==============================] - 13s 5ms/sample - loss: 0.0115 - mean_squared_error: 3.0433e-04 - val_loss: 0.0163 - val_mean_squared_error: 4.7597e-04\n",
      "Epoch 38/50\n",
      "2845/2845 [==============================] - 13s 4ms/sample - loss: 0.0115 - mean_squared_error: 3.1878e-04 - val_loss: 0.0199 - val_mean_squared_error: 6.6986e-04\n",
      "Epoch 39/50\n",
      "2845/2845 [==============================] - 12s 4ms/sample - loss: 0.0113 - mean_squared_error: 2.8987e-04 - val_loss: 0.0241 - val_mean_squared_error: 8.8231e-04\n",
      "Epoch 40/50\n",
      "2845/2845 [==============================] - 12s 4ms/sample - loss: 0.0111 - mean_squared_error: 2.7368e-04 - val_loss: 0.0141 - val_mean_squared_error: 3.5732e-04\n",
      "Epoch 41/50\n",
      "2845/2845 [==============================] - 12s 4ms/sample - loss: 0.0116 - mean_squared_error: 3.1159e-04 - val_loss: 0.0299 - val_mean_squared_error: 0.0012\n",
      "Epoch 42/50\n",
      "2845/2845 [==============================] - 12s 4ms/sample - loss: 0.0118 - mean_squared_error: 3.1331e-04 - val_loss: 0.0218 - val_mean_squared_error: 7.4511e-04\n",
      "Epoch 43/50\n",
      "2845/2845 [==============================] - 11s 4ms/sample - loss: 0.0112 - mean_squared_error: 2.8794e-04 - val_loss: 0.0201 - val_mean_squared_error: 6.4548e-04\n",
      "Epoch 44/50\n",
      "2845/2845 [==============================] - 12s 4ms/sample - loss: 0.0111 - mean_squared_error: 2.8379e-04 - val_loss: 0.0134 - val_mean_squared_error: 3.2626e-04\n",
      "Epoch 45/50\n",
      "2845/2845 [==============================] - 14s 5ms/sample - loss: 0.0113 - mean_squared_error: 2.9302e-04 - val_loss: 0.0138 - val_mean_squared_error: 3.3862e-04\n"
     ]
    },
    {
     "name": "stdout",
     "output_type": "stream",
     "text": [
      "Epoch 46/50\n",
      "2845/2845 [==============================] - 17s 6ms/sample - loss: 0.0106 - mean_squared_error: 2.6316e-04 - val_loss: 0.0137 - val_mean_squared_error: 3.3935e-04\n",
      "Epoch 47/50\n",
      "2845/2845 [==============================] - 18s 6ms/sample - loss: 0.0110 - mean_squared_error: 2.8071e-04 - val_loss: 0.0594 - val_mean_squared_error: 0.0041\n",
      "Epoch 48/50\n",
      "2845/2845 [==============================] - 16s 5ms/sample - loss: 0.0113 - mean_squared_error: 2.8794e-04 - val_loss: 0.0135 - val_mean_squared_error: 3.2904e-04\n",
      "Epoch 49/50\n",
      "2845/2845 [==============================] - 13s 5ms/sample - loss: 0.0113 - mean_squared_error: 2.8380e-04 - val_loss: 0.0231 - val_mean_squared_error: 8.3551e-04\n",
      "Epoch 50/50\n",
      "2845/2845 [==============================] - 13s 5ms/sample - loss: 0.0108 - mean_squared_error: 2.6031e-04 - val_loss: 0.0132 - val_mean_squared_error: 3.1761e-04\n"
     ]
    }
   ],
   "source": [
    "# Train --> take a lot of time\n",
    "history = model.fit(X_train,y_train, epochs= 50, validation_split=0.2, batch_size=100)"
   ]
  },
  {
   "cell_type": "code",
   "execution_count": 15,
   "metadata": {},
   "outputs": [],
   "source": [
    "y_pred = model.predict(X_test)"
   ]
  },
  {
   "cell_type": "code",
   "execution_count": 16,
   "metadata": {},
   "outputs": [],
   "source": [
    "y_pred = y_pred*scaler.scale_[4]\n",
    "y_test = y_test*scaler.scale_[4]"
   ]
  },
  {
   "cell_type": "markdown",
   "metadata": {},
   "source": [
    "# Visualisation"
   ]
  },
  {
   "cell_type": "code",
   "execution_count": 46,
   "metadata": {},
   "outputs": [
    {
     "data": {
      "image/png": "[encoded data removed]",
      "text/plain": [
       "<Figure size 1008x360 with 1 Axes>"
      ]
     },
     "metadata": {
      "needs_background": "light"
     },
     "output_type": "display_data"
    }
   ],
   "source": [
    "plt.figure(figsize=(14,5))\n",
    "plt.plot(y_test, color = 'red', label = 'Real Google Stock Price')\n",
    "plt.plot(y_pred, color = 'blue', label = 'Predicted Google Stock Price')\n",
    "plt.title('Google Stock Price Prediction')\n",
    "plt.xlabel('Time')\n",
    "plt.ylabel('Google Stock Price')\n",
    "plt.legend()\n",
    "plt.show()"
   ]
  },
  {
   "cell_type": "code",
   "execution_count": 18,
   "metadata": {},
   "outputs": [
    {
     "data": {
      "image/png": "[encoded data removed]",
      "text/plain": [
       "<Figure size 432x288 with 1 Axes>"
      ]
     },
     "metadata": {
      "needs_background": "light"
     },
     "output_type": "display_data"
    }
   ],
   "source": [
    "# learning curve\n",
    "plt.plot(history.history['loss'], label='train')\n",
    "plt.plot(history.history['val_loss'], label='valid')\n",
    "plt.legend()\n",
    "plt.show()"
   ]
  },
  {
   "cell_type": "code",
   "execution_count": 19,
   "metadata": {},
   "outputs": [
    {
     "data": {
      "text/plain": [
       "(0.8617565228199997, 2.926044779865552e-05)"
      ]
     },
     "execution_count": 19,
     "metadata": {},
     "output_type": "execute_result"
    }
   ],
   "source": [
    "from sklearn.metrics import r2_score, mean_squared_error\n",
    "r2_score(y_test,y_pred),np.sqrt(mean_squared_error(y_test,y_pred))"
   ]
  }
 ],
 "metadata": {
  "kernelspec": {
   "display_name": "Python 3",
   "language": "python",
   "name": "python3"
  },
  "language_info": {
   "codemirror_mode": {
    "name": "ipython",
    "version": 3
   },
   "file_extension": ".py",
   "mimetype": "text/x-python",
   "name": "python",
   "nbconvert_exporter": "python",
   "pygments_lexer": "ipython3",
   "version": "3.7.3"
  }
 },
 "nbformat": 4,
 "nbformat_minor": 2
}
